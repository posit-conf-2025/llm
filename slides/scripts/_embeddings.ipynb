{
 "cells": [
  {
   "cell_type": "code",
   "execution_count": 1,
   "id": "fda737b4",
   "metadata": {},
   "outputs": [
    {
     "data": {
      "text/plain": [
       "False"
      ]
     },
     "execution_count": null,
     "metadata": {},
     "output_type": "execute_result"
    }
   ],
   "source": [
    "import os\n",
    "\n",
    "import dotenv\n",
    "import numpy as np\n",
    "from openai import OpenAI\n",
    "\n",
    "dotenv.load_dotenv()"
   ]
  },
  {
   "cell_type": "code",
   "execution_count": null,
   "id": "3b141096",
   "metadata": {
    "lines_to_next_cell": 1
   },
   "outputs": [],
   "source": [
    "client = OpenAI(\n",
    "    api_key=os.environ.get(\"OPENAI_API_KEY\"),\n",
    ")\n",
    "\n",
    "words = [\"dplyr::left_join\", \"LEFT JOIN\", \"suitcase\"]\n",
    "response = client.embeddings.create(input=words, model=\"text-embedding-3-small\")\n",
    "\n",
    "emb = np.array(list(map(lambda d: np.array(d.embedding), response.data)))"
   ]
  },
  {
   "cell_type": "code",
   "execution_count": 3,
   "id": "0f87e81c",
   "metadata": {},
   "outputs": [
    {
     "data": {
      "text/plain": [
       "array([[-0.0384574 ,  0.00796838,  0.04896307, ..., -0.01687562,\n",
       "         0.00051399,  0.01020856],\n",
       "       [-0.0114895 ,  0.0187361 ,  0.04436858, ...,  0.0055124 ,\n",
       "         0.01100459, -0.00588281],\n",
       "       [ 0.01323017, -0.00844115, -0.02530578, ..., -0.00054488,\n",
       "        -0.0285338 , -0.02933492]], shape=(3, 1536))"
      ]
     },
     "execution_count": null,
     "metadata": {},
     "output_type": "execute_result"
    }
   ],
   "source": [
    "emb"
   ]
  },
  {
   "cell_type": "code",
   "execution_count": 4,
   "id": "7b7eb6e9",
   "metadata": {
    "lines_to_next_cell": 1
   },
   "outputs": [],
   "source": [
    "def cosine_distance(u, v):\n",
    "    # 1 - cosine similarity\n",
    "    dot = np.dot(u, v)\n",
    "    nu = np.linalg.norm(u)\n",
    "    nv = np.linalg.norm(v)\n",
    "    if nu == 0 or nv == 0:\n",
    "        return 1.0  # define distance when a vector is zero\n",
    "    return 1.0 - dot / (nu * nv)"
   ]
  },
  {
   "cell_type": "code",
   "execution_count": 5,
   "id": "12a682af",
   "metadata": {},
   "outputs": [
    {
     "data": {
      "text/plain": [
       "np.float64(0.4387928448695605)"
      ]
     },
     "execution_count": null,
     "metadata": {},
     "output_type": "execute_result"
    }
   ],
   "source": [
    "dist_0_1 = cosine_distance(emb[0], emb[1])\n",
    "dist_0_1"
   ]
  },
  {
   "cell_type": "code",
   "execution_count": 6,
   "id": "3507966b",
   "metadata": {},
   "outputs": [
    {
     "data": {
      "text/plain": [
       "np.float64(0.9148028914962113)"
      ]
     },
     "execution_count": null,
     "metadata": {},
     "output_type": "execute_result"
    }
   ],
   "source": [
    "dist_0_2 = cosine_distance(emb[0], emb[2])\n",
    "dist_0_2"
   ]
  }
 ],
 "metadata": {
  "jupytext": {
   "cell_metadata_filter": "-all",
   "main_language": "python",
   "notebook_metadata_filter": "-all"
  },
  "language_info": {
   "name": "python"
  }
 },
 "nbformat": 4,
 "nbformat_minor": 5
}
